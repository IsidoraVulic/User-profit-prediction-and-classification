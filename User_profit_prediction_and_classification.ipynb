{
  "nbformat": 4,
  "nbformat_minor": 0,
  "metadata": {
    "colab": {
      "provenance": [],
      "toc_visible": true
    },
    "kernelspec": {
      "name": "python3",
      "display_name": "Python 3"
    },
    "language_info": {
      "name": "python"
    }
  },
  "cells": [
    {
      "cell_type": "markdown",
      "source": [
        "# Feature selection"
      ],
      "metadata": {
        "id": "cYTbKS6esejY"
      }
    },
    {
      "cell_type": "code",
      "source": [
        "import pandas as pd\n",
        "import numpy as np\n",
        "import warnings\n",
        "warnings.filterwarnings(\"ignore\")\n",
        "\n",
        "from google.colab import drive\n",
        "drive.mount('/content/drive')"
      ],
      "metadata": {
        "colab": {
          "base_uri": "https://localhost:8080/"
        },
        "id": "oUf2JIgfM516",
        "outputId": "293f630b-1af0-4f20-fc49-9167f813ed5e"
      },
      "execution_count": null,
      "outputs": [
        {
          "output_type": "stream",
          "name": "stdout",
          "text": [
            "Mounted at /content/drive\n"
          ]
        }
      ]
    },
    {
      "cell_type": "code",
      "source": [
        "import seaborn as sns\n",
        "import matplotlib.pyplot as plt"
      ],
      "metadata": {
        "id": "tlKGdkZmM-T6"
      },
      "execution_count": null,
      "outputs": []
    },
    {
      "cell_type": "code",
      "source": [
        "df = pd.read_csv('/content/drive/My Drive/dataset_without_outliers_grouped')"
      ],
      "metadata": {
        "id": "CtTHgUPPNCqp"
      },
      "execution_count": null,
      "outputs": []
    },
    {
      "cell_type": "code",
      "source": [
        "from sklearn.model_selection import train_test_split\n",
        "\n",
        "X = df.drop('total week diff', axis=1)\n",
        "y = df['total week diff']\n",
        "X_train, X_test, y_train, y_test = train_test_split(X, y, test_size = 0.3, random_state=0)"
      ],
      "metadata": {
        "id": "nRrkQdWfBiF1"
      },
      "execution_count": null,
      "outputs": []
    },
    {
      "cell_type": "code",
      "source": [
        "from sklearn.feature_selection import VarianceThreshold\n",
        "\n",
        "selection = VarianceThreshold(0.05)\n",
        "selection.fit(X)\n",
        "selection.get_support()"
      ],
      "metadata": {
        "id": "_SYFEkQABtnA"
      },
      "execution_count": null,
      "outputs": []
    },
    {
      "cell_type": "code",
      "source": [
        "X_reduced = X.loc[:,selection.get_support()]"
      ],
      "metadata": {
        "id": "0-ikdMOvBvfr"
      },
      "execution_count": null,
      "outputs": []
    },
    {
      "cell_type": "markdown",
      "source": [
        "# Linear regression"
      ],
      "metadata": {
        "id": "qDB6-e8psbeL"
      }
    },
    {
      "cell_type": "code",
      "source": [
        "from sklearn.linear_model import LinearRegression\n",
        "\n",
        "model_lr = LinearRegression()"
      ],
      "metadata": {
        "id": "r3dqAXO2BAdH"
      },
      "execution_count": null,
      "outputs": []
    },
    {
      "cell_type": "code",
      "source": [
        "model_lr.fit(X_train, y_train)"
      ],
      "metadata": {
        "id": "0pLDYTD2PVmr"
      },
      "execution_count": null,
      "outputs": []
    },
    {
      "cell_type": "code",
      "source": [
        "pred = model_lr.predict(X_test)"
      ],
      "metadata": {
        "id": "KQ1AtPyTPWEK"
      },
      "execution_count": null,
      "outputs": []
    },
    {
      "cell_type": "code",
      "source": [
        "from sklearn.metrics import mean_absolute_error, mean_squared_error, median_absolute_error, r2_score, explained_variance_score"
      ],
      "metadata": {
        "id": "U8A5-matPqyt"
      },
      "execution_count": null,
      "outputs": []
    },
    {
      "cell_type": "code",
      "source": [
        "mae = mean_absolute_error(y_test, pred)\n",
        "mse = mean_squared_error(y_test, pred)\n",
        "rmse = np.sqrt(mse)"
      ],
      "metadata": {
        "id": "gRzFS4XvPsRG"
      },
      "execution_count": null,
      "outputs": []
    },
    {
      "cell_type": "code",
      "source": [
        "print('''\n",
        "MAE: {}\n",
        "MSE: {}\n",
        "RMSE: {}\n",
        "'''.format(mae,mse,rmse))"
      ],
      "metadata": {
        "id": "vqyTy3LbPth3"
      },
      "execution_count": null,
      "outputs": []
    },
    {
      "cell_type": "markdown",
      "source": [
        "# Regression decision tree"
      ],
      "metadata": {
        "id": "2oNPArp_sV6H"
      }
    },
    {
      "cell_type": "code",
      "source": [
        "from sklearn.tree import DecisionTreeRegressor\n",
        "from sklearn import tree\n",
        "\n",
        "model_tree = DecisionTreeRegressor()\n",
        "\n",
        "rgr = model_tree.fit(X_train, y_train)\n",
        "\n",
        "y_pred_tree = model_tree.predict(X_test)"
      ],
      "metadata": {
        "id": "8V5L1p3YPvQu"
      },
      "execution_count": null,
      "outputs": []
    },
    {
      "cell_type": "code",
      "source": [
        "mae = mean_absolute_error(y_test, y_pred_tree)\n",
        "mse = mean_squared_error(y_test, y_pred_tree)\n",
        "rmse = np.sqrt(mse)"
      ],
      "metadata": {
        "id": "EIyHp-LPP2v_"
      },
      "execution_count": null,
      "outputs": []
    },
    {
      "cell_type": "code",
      "source": [
        "print('''\n",
        "MAE: {}\n",
        "MSE: {}\n",
        "RMSE: {}\n",
        "'''.format(mae,mse,rmse))"
      ],
      "metadata": {
        "id": "-w-2xg73P5Er"
      },
      "execution_count": null,
      "outputs": []
    },
    {
      "cell_type": "markdown",
      "source": [
        "# XGBoost"
      ],
      "metadata": {
        "id": "I8UNQHGusSIw"
      }
    },
    {
      "cell_type": "code",
      "source": [
        "import xgboost as xgb\n",
        "import numpy as np\n",
        "from sklearn.model_selection import train_test_split\n",
        "from sklearn.metrics import mean_absolute_error\n",
        "\n",
        "\n",
        "X_train, X_test, y_train, y_test = train_test_split(X_reduced, y, test_size = 0.3, random_state=0)\n",
        "\n",
        "\n",
        "dtrain = xgb.DMatrix(X_train, label=y_train)\n",
        "dval = xgb.DMatrix(X_test, label=y_test)\n",
        "\n",
        "params = {\n",
        "    'objective': 'reg:squarederror',\n",
        "    'eval_metric': 'mae',\n",
        "    'max_depth': 5,\n",
        "    'learning_rate': 0.2,\n",
        "    'n_estimators': 1000\n",
        "}\n",
        "\n",
        "\n",
        "model = xgb.train(params, dtrain, num_boost_round=1000, evals=[(dval, 'validation')], early_stopping_rounds=10)\n",
        "\n",
        "y_pred = model.predict(dval)\n",
        "\n",
        "y_val = dval.get_label()\n",
        "\n",
        "mae = mean_absolute_error(y_val, y_pred)\n",
        "print(\"Mean Absolute Error:\", mae)\n"
      ],
      "metadata": {
        "colab": {
          "base_uri": "https://localhost:8080/"
        },
        "id": "MQ5wgr4_QF5M",
        "outputId": "0faa2d2d-5e2d-49ad-8911-c23acad1fb79"
      },
      "execution_count": null,
      "outputs": [
        {
          "output_type": "stream",
          "name": "stdout",
          "text": [
            "[11:54:48] WARNING: ../src/learner.cc:767: \n",
            "Parameters: { \"n_estimators\" } are not used.\n",
            "\n",
            "[0]\tvalidation-mae:2624.19307\n",
            "[1]\tvalidation-mae:2335.42290\n",
            "[2]\tvalidation-mae:2135.68818\n",
            "[3]\tvalidation-mae:1975.57343\n",
            "[4]\tvalidation-mae:1876.65101\n",
            "[5]\tvalidation-mae:1786.56701\n",
            "[6]\tvalidation-mae:1720.96662\n",
            "[7]\tvalidation-mae:1671.43441\n",
            "[8]\tvalidation-mae:1618.03391\n",
            "[9]\tvalidation-mae:1575.65076\n",
            "[10]\tvalidation-mae:1548.29610\n",
            "[11]\tvalidation-mae:1520.43206\n",
            "[12]\tvalidation-mae:1495.67489\n",
            "[13]\tvalidation-mae:1474.17856\n",
            "[14]\tvalidation-mae:1465.38787\n",
            "[15]\tvalidation-mae:1453.45035\n",
            "[16]\tvalidation-mae:1440.74925\n",
            "[17]\tvalidation-mae:1425.08891\n",
            "[18]\tvalidation-mae:1416.41204\n",
            "[19]\tvalidation-mae:1402.96304\n",
            "[20]\tvalidation-mae:1396.43277\n",
            "[21]\tvalidation-mae:1388.21244\n",
            "[22]\tvalidation-mae:1386.76309\n",
            "[23]\tvalidation-mae:1378.91076\n",
            "[24]\tvalidation-mae:1375.77220\n",
            "[25]\tvalidation-mae:1374.37890\n",
            "[26]\tvalidation-mae:1368.65564\n",
            "[27]\tvalidation-mae:1367.02099\n",
            "[28]\tvalidation-mae:1362.89099\n",
            "[29]\tvalidation-mae:1361.02267\n",
            "[30]\tvalidation-mae:1356.39463\n",
            "[31]\tvalidation-mae:1349.99221\n",
            "[32]\tvalidation-mae:1348.47556\n",
            "[33]\tvalidation-mae:1342.51272\n",
            "[34]\tvalidation-mae:1338.53682\n",
            "[35]\tvalidation-mae:1338.09780\n",
            "[36]\tvalidation-mae:1336.72788\n",
            "[37]\tvalidation-mae:1329.52434\n",
            "[38]\tvalidation-mae:1327.66388\n",
            "[39]\tvalidation-mae:1322.77928\n",
            "[40]\tvalidation-mae:1321.26600\n",
            "[41]\tvalidation-mae:1321.37630\n",
            "[42]\tvalidation-mae:1320.95407\n",
            "[43]\tvalidation-mae:1314.81489\n",
            "[44]\tvalidation-mae:1309.78674\n",
            "[45]\tvalidation-mae:1309.17862\n",
            "[46]\tvalidation-mae:1306.86585\n",
            "[47]\tvalidation-mae:1306.66213\n",
            "[48]\tvalidation-mae:1303.43893\n",
            "[49]\tvalidation-mae:1302.36971\n",
            "[50]\tvalidation-mae:1302.58334\n",
            "[51]\tvalidation-mae:1302.26040\n",
            "[52]\tvalidation-mae:1301.28976\n",
            "[53]\tvalidation-mae:1298.90995\n",
            "[54]\tvalidation-mae:1297.72173\n",
            "[55]\tvalidation-mae:1292.97080\n",
            "[56]\tvalidation-mae:1293.30920\n",
            "[57]\tvalidation-mae:1292.57333\n",
            "[58]\tvalidation-mae:1292.17057\n",
            "[59]\tvalidation-mae:1292.34137\n",
            "[60]\tvalidation-mae:1288.79979\n",
            "[61]\tvalidation-mae:1288.47216\n",
            "[62]\tvalidation-mae:1288.71411\n",
            "[63]\tvalidation-mae:1288.81164\n",
            "[64]\tvalidation-mae:1286.79525\n",
            "[65]\tvalidation-mae:1284.98623\n",
            "[66]\tvalidation-mae:1284.18379\n",
            "[67]\tvalidation-mae:1280.18854\n",
            "[68]\tvalidation-mae:1279.24732\n",
            "[69]\tvalidation-mae:1278.31466\n",
            "[70]\tvalidation-mae:1278.21500\n",
            "[71]\tvalidation-mae:1277.66503\n",
            "[72]\tvalidation-mae:1277.72944\n",
            "[73]\tvalidation-mae:1277.56842\n",
            "[74]\tvalidation-mae:1274.96852\n",
            "[75]\tvalidation-mae:1274.92856\n",
            "[76]\tvalidation-mae:1270.87179\n",
            "[77]\tvalidation-mae:1266.62019\n",
            "[78]\tvalidation-mae:1264.29115\n",
            "[79]\tvalidation-mae:1263.52925\n",
            "[80]\tvalidation-mae:1262.13132\n",
            "[81]\tvalidation-mae:1260.24538\n",
            "[82]\tvalidation-mae:1258.80127\n",
            "[83]\tvalidation-mae:1257.75485\n",
            "[84]\tvalidation-mae:1257.17340\n",
            "[85]\tvalidation-mae:1254.90610\n",
            "[86]\tvalidation-mae:1254.99922\n",
            "[87]\tvalidation-mae:1252.19008\n",
            "[88]\tvalidation-mae:1252.27536\n",
            "[89]\tvalidation-mae:1251.93741\n",
            "[90]\tvalidation-mae:1251.72397\n",
            "[91]\tvalidation-mae:1252.09485\n",
            "[92]\tvalidation-mae:1251.44576\n",
            "[93]\tvalidation-mae:1251.88079\n",
            "[94]\tvalidation-mae:1250.76388\n",
            "[95]\tvalidation-mae:1250.79105\n",
            "[96]\tvalidation-mae:1249.08085\n",
            "[97]\tvalidation-mae:1248.92016\n",
            "[98]\tvalidation-mae:1248.62862\n",
            "[99]\tvalidation-mae:1248.11838\n",
            "[100]\tvalidation-mae:1248.05945\n",
            "[101]\tvalidation-mae:1246.76482\n",
            "[102]\tvalidation-mae:1245.39693\n",
            "[103]\tvalidation-mae:1244.74591\n",
            "[104]\tvalidation-mae:1244.59661\n",
            "[105]\tvalidation-mae:1244.50909\n",
            "[106]\tvalidation-mae:1243.49347\n",
            "[107]\tvalidation-mae:1243.79499\n",
            "[108]\tvalidation-mae:1244.01905\n",
            "[109]\tvalidation-mae:1242.19591\n",
            "[110]\tvalidation-mae:1240.66138\n",
            "[111]\tvalidation-mae:1240.40880\n",
            "[112]\tvalidation-mae:1239.98688\n",
            "[113]\tvalidation-mae:1239.30294\n",
            "[114]\tvalidation-mae:1239.42590\n",
            "[115]\tvalidation-mae:1239.47340\n",
            "[116]\tvalidation-mae:1239.30479\n",
            "[117]\tvalidation-mae:1237.72125\n",
            "[118]\tvalidation-mae:1236.48453\n",
            "[119]\tvalidation-mae:1236.73088\n",
            "[120]\tvalidation-mae:1236.51869\n",
            "[121]\tvalidation-mae:1236.61900\n",
            "[122]\tvalidation-mae:1236.88907\n",
            "[123]\tvalidation-mae:1235.50617\n",
            "[124]\tvalidation-mae:1235.11327\n",
            "[125]\tvalidation-mae:1235.25801\n",
            "[126]\tvalidation-mae:1234.35939\n",
            "[127]\tvalidation-mae:1234.09416\n",
            "[128]\tvalidation-mae:1233.15911\n",
            "[129]\tvalidation-mae:1232.04404\n",
            "[130]\tvalidation-mae:1231.84588\n",
            "[131]\tvalidation-mae:1231.52574\n",
            "[132]\tvalidation-mae:1230.51410\n",
            "[133]\tvalidation-mae:1230.57135\n",
            "[134]\tvalidation-mae:1230.58186\n",
            "[135]\tvalidation-mae:1230.62754\n",
            "[136]\tvalidation-mae:1230.87140\n",
            "[137]\tvalidation-mae:1230.66814\n",
            "[138]\tvalidation-mae:1230.39602\n",
            "[139]\tvalidation-mae:1229.42615\n",
            "[140]\tvalidation-mae:1229.50829\n",
            "[141]\tvalidation-mae:1229.51421\n",
            "[142]\tvalidation-mae:1229.74620\n",
            "[143]\tvalidation-mae:1229.38502\n",
            "[144]\tvalidation-mae:1229.28629\n",
            "[145]\tvalidation-mae:1229.09724\n",
            "[146]\tvalidation-mae:1228.73080\n",
            "[147]\tvalidation-mae:1226.76592\n",
            "[148]\tvalidation-mae:1226.67440\n",
            "[149]\tvalidation-mae:1226.44447\n",
            "[150]\tvalidation-mae:1226.70738\n",
            "[151]\tvalidation-mae:1224.65024\n",
            "[152]\tvalidation-mae:1224.63185\n",
            "[153]\tvalidation-mae:1224.56655\n",
            "[154]\tvalidation-mae:1224.82450\n",
            "[155]\tvalidation-mae:1223.34611\n",
            "[156]\tvalidation-mae:1223.35000\n",
            "[157]\tvalidation-mae:1222.95347\n",
            "[158]\tvalidation-mae:1222.95204\n",
            "[159]\tvalidation-mae:1222.74766\n",
            "[160]\tvalidation-mae:1222.43740\n",
            "[161]\tvalidation-mae:1222.62777\n",
            "[162]\tvalidation-mae:1222.49512\n",
            "[163]\tvalidation-mae:1221.90439\n",
            "[164]\tvalidation-mae:1221.16531\n",
            "[165]\tvalidation-mae:1221.11401\n",
            "[166]\tvalidation-mae:1220.78094\n",
            "[167]\tvalidation-mae:1220.87690\n",
            "[168]\tvalidation-mae:1219.36859\n",
            "[169]\tvalidation-mae:1219.12994\n",
            "[170]\tvalidation-mae:1219.12625\n",
            "[171]\tvalidation-mae:1219.09798\n",
            "[172]\tvalidation-mae:1219.22307\n",
            "[173]\tvalidation-mae:1219.31473\n",
            "[174]\tvalidation-mae:1219.36003\n",
            "[175]\tvalidation-mae:1219.64069\n",
            "[176]\tvalidation-mae:1219.44911\n",
            "[177]\tvalidation-mae:1219.35916\n",
            "[178]\tvalidation-mae:1218.05659\n",
            "[179]\tvalidation-mae:1217.81940\n",
            "[180]\tvalidation-mae:1217.30348\n",
            "[181]\tvalidation-mae:1217.38737\n",
            "[182]\tvalidation-mae:1217.40204\n",
            "[183]\tvalidation-mae:1216.10976\n",
            "[184]\tvalidation-mae:1215.56741\n",
            "[185]\tvalidation-mae:1215.24276\n",
            "[186]\tvalidation-mae:1215.06049\n",
            "[187]\tvalidation-mae:1212.78100\n",
            "[188]\tvalidation-mae:1212.54221\n",
            "[189]\tvalidation-mae:1212.78031\n",
            "[190]\tvalidation-mae:1212.93851\n",
            "[191]\tvalidation-mae:1212.91025\n",
            "[192]\tvalidation-mae:1212.89739\n",
            "[193]\tvalidation-mae:1212.83965\n",
            "[194]\tvalidation-mae:1212.42772\n",
            "[195]\tvalidation-mae:1211.48156\n",
            "[196]\tvalidation-mae:1211.50346\n",
            "[197]\tvalidation-mae:1211.59473\n",
            "[198]\tvalidation-mae:1211.48277\n",
            "[199]\tvalidation-mae:1211.73598\n",
            "[200]\tvalidation-mae:1211.81254\n",
            "[201]\tvalidation-mae:1212.09853\n",
            "[202]\tvalidation-mae:1212.16197\n",
            "[203]\tvalidation-mae:1211.98509\n",
            "[204]\tvalidation-mae:1211.34963\n",
            "[205]\tvalidation-mae:1211.76204\n",
            "[206]\tvalidation-mae:1211.77787\n",
            "[207]\tvalidation-mae:1211.77687\n",
            "[208]\tvalidation-mae:1211.83568\n",
            "[209]\tvalidation-mae:1212.10429\n",
            "[210]\tvalidation-mae:1211.94508\n",
            "[211]\tvalidation-mae:1211.95208\n",
            "[212]\tvalidation-mae:1212.11062\n",
            "[213]\tvalidation-mae:1211.71352\n",
            "[214]\tvalidation-mae:1211.71432\n",
            "Mean Absolute Error: 1211.7142\n"
          ]
        }
      ]
    },
    {
      "cell_type": "code",
      "source": [
        "best_iteration = model.best_iteration"
      ],
      "metadata": {
        "id": "D_XBckI9QTWe"
      },
      "execution_count": null,
      "outputs": []
    },
    {
      "cell_type": "code",
      "source": [
        "model = xgb.train(params, dtrain, num_boost_round=best_iteration)"
      ],
      "metadata": {
        "colab": {
          "base_uri": "https://localhost:8080/"
        },
        "id": "_6-VooGjQWwD",
        "outputId": "8da58741-cf0e-494a-e1c8-52b0acca1a21"
      },
      "execution_count": null,
      "outputs": [
        {
          "output_type": "stream",
          "name": "stdout",
          "text": [
            "[11:56:48] WARNING: ../src/learner.cc:767: \n",
            "Parameters: { \"n_estimators\" } are not used.\n",
            "\n"
          ]
        }
      ]
    },
    {
      "cell_type": "code",
      "source": [
        "y_pred = model.predict(dval)\n",
        "\n",
        "y_val = dval.get_label()\n",
        "\n",
        "mae = mean_absolute_error(y_val, y_pred)\n",
        "print(\"Mean Absolute Error:\", mae)"
      ],
      "metadata": {
        "colab": {
          "base_uri": "https://localhost:8080/"
        },
        "id": "UCFButA3QZKA",
        "outputId": "e6dbd2ab-00ee-4e3f-a9d2-3a277a731881"
      },
      "execution_count": null,
      "outputs": [
        {
          "output_type": "stream",
          "name": "stdout",
          "text": [
            "Mean Absolute Error: 1211.985\n"
          ]
        }
      ]
    },
    {
      "cell_type": "markdown",
      "source": [
        "# Classification decision tree\n"
      ],
      "metadata": {
        "id": "hbMf7qKBsNbz"
      }
    },
    {
      "cell_type": "code",
      "source": [
        "type(y[0])"
      ],
      "metadata": {
        "colab": {
          "base_uri": "https://localhost:8080/"
        },
        "id": "DrY4Tefnulr7",
        "outputId": "ba996ed8-f6aa-493e-b725-2bbd2ce64de1"
      },
      "execution_count": null,
      "outputs": [
        {
          "output_type": "execute_result",
          "data": {
            "text/plain": [
              "numpy.float64"
            ]
          },
          "metadata": {},
          "execution_count": 63
        }
      ]
    },
    {
      "cell_type": "code",
      "source": [
        "y"
      ],
      "metadata": {
        "colab": {
          "base_uri": "https://localhost:8080/"
        },
        "id": "dKdngWcy2DD8",
        "outputId": "9d9b4f33-b0b5-4c5c-e374-c5101d8a813c"
      },
      "execution_count": null,
      "outputs": [
        {
          "output_type": "execute_result",
          "data": {
            "text/plain": [
              "0         3200.0\n",
              "1         2640.0\n",
              "2         3000.0\n",
              "3         1000.0\n",
              "4         1600.0\n",
              "           ...  \n",
              "200050   -3900.0\n",
              "200051     190.0\n",
              "200052     500.0\n",
              "200053     300.0\n",
              "200054    1192.0\n",
              "Name: total week diff, Length: 200055, dtype: float64"
            ]
          },
          "metadata": {},
          "execution_count": 64
        }
      ]
    },
    {
      "cell_type": "code",
      "source": [
        "y = y.astype('float')"
      ],
      "metadata": {
        "id": "CHSBrW4b1zCa"
      },
      "execution_count": null,
      "outputs": []
    },
    {
      "cell_type": "code",
      "source": [
        "bins = [-np.inf,-5000, -1000, 0, 1000, 5000, np.inf]\n",
        "labels = ['manje od -5000', '-1000 do -5000',\n",
        "          '0 do -1000', '0 do 1000', '1000 do 5000',\n",
        "          'preko 5000']\n",
        "\n",
        "categorized_y = pd.cut(y, bins=bins, labels=labels)"
      ],
      "metadata": {
        "id": "Z14u-Yt8sQbA"
      },
      "execution_count": null,
      "outputs": []
    },
    {
      "cell_type": "code",
      "source": [
        "categorized_y.value_counts()"
      ],
      "metadata": {
        "colab": {
          "base_uri": "https://localhost:8080/"
        },
        "id": "ft4mQnGGuDUn",
        "outputId": "15bff797-7247-4b9b-c649-0f82cdeb8e03"
      },
      "execution_count": null,
      "outputs": [
        {
          "output_type": "execute_result",
          "data": {
            "text/plain": [
              "0 do 1000         88221\n",
              "1000 do 5000      56863\n",
              "preko 5000        23000\n",
              "-1000 do -5000    11959\n",
              "0 do -1000        10984\n",
              "manje od -5000     9028\n",
              "Name: total week diff, dtype: int64"
            ]
          },
          "metadata": {},
          "execution_count": 69
        }
      ]
    },
    {
      "cell_type": "code",
      "source": [
        "from sklearn.linear_model import LogisticRegression\n",
        "from sklearn.tree import DecisionTreeClassifier\n",
        "from sklearn.model_selection import cross_val_score\n",
        "from sklearn.ensemble import VotingClassifier\n",
        "\n",
        "model_tree = DecisionTreeClassifier()\n",
        "model_lr = LogisticRegression(solver='liblinear')\n",
        "\n",
        "model = VotingClassifier(voting='hard', estimators=[('tree', model_tree), ('lr', model_lr)])\n",
        "\n",
        "for model, label in zip([model_tree, model_lr, model], ['Tree', 'LR', 'Voting']):\n",
        "    scores = cross_val_score(model, X_reduced, categorized_y, cv=10, scoring='accuracy')\n",
        "    print(f'{label}: {scores.mean()}')"
      ],
      "metadata": {
        "colab": {
          "base_uri": "https://localhost:8080/"
        },
        "id": "WR-RPEn22w2Q",
        "outputId": "2d269858-068b-4aa2-85e7-745d6089e11d"
      },
      "execution_count": null,
      "outputs": [
        {
          "output_type": "stream",
          "name": "stdout",
          "text": [
            "Tree: 0.7296331183124443\n",
            "LR: 0.5383412779215473\n",
            "Voting: 0.5257388576978519\n"
          ]
        }
      ]
    },
    {
      "cell_type": "markdown",
      "source": [
        "# SVM"
      ],
      "metadata": {
        "id": "_kL3ijCk63Ho"
      }
    },
    {
      "cell_type": "code",
      "source": [
        "from sklearn.preprocessing import StandardScaler\n",
        "from sklearn.svm import SVR"
      ],
      "metadata": {
        "id": "QtduG-lL7LVj"
      },
      "execution_count": null,
      "outputs": []
    },
    {
      "cell_type": "code",
      "source": [
        "y_train.shape"
      ],
      "metadata": {
        "colab": {
          "base_uri": "https://localhost:8080/"
        },
        "id": "vzdBKnYA8joY",
        "outputId": "699660a3-d261-4b6a-e8d2-4751d5add4e6"
      },
      "execution_count": null,
      "outputs": [
        {
          "output_type": "execute_result",
          "data": {
            "text/plain": [
              "(140038,)"
            ]
          },
          "metadata": {},
          "execution_count": 17
        }
      ]
    },
    {
      "cell_type": "code",
      "source": [
        "y_train = np.array(y_train).reshape(len(y_train),1)\n",
        "X_train = np.array(X_train)\n",
        "y_test = np.array(y_test).reshape(len(y_test),1)\n",
        "X_test = np.array(X_test)"
      ],
      "metadata": {
        "id": "zJS1weD_8o8G"
      },
      "execution_count": null,
      "outputs": []
    },
    {
      "cell_type": "code",
      "source": [
        "sc_X_train = StandardScaler()\n",
        "sc_y_train = StandardScaler()\n",
        "\n",
        "sc_X_test = StandardScaler()\n",
        "sc_y_test = StandardScaler()\n",
        "\n",
        "X_train = sc_X_train.fit_transform(X_train)\n",
        "y_train = sc_y_train.fit_transform(y_train)\n",
        "\n",
        "X_test = sc_X_test.fit_transform(X_test)\n",
        "y_test = sc_y_test.fit_transform(y_test)"
      ],
      "metadata": {
        "id": "L2pdZ7Vz7VEt"
      },
      "execution_count": null,
      "outputs": []
    },
    {
      "cell_type": "code",
      "source": [
        "regressor = SVR(kernel = 'rbf')\n",
        "regressor.fit(X_train,y_train)"
      ],
      "metadata": {
        "colab": {
          "base_uri": "https://localhost:8080/",
          "height": 74
        },
        "id": "m-M-Ih-D79H1",
        "outputId": "5e1c143a-5485-4c10-a771-57ccab4f759f"
      },
      "execution_count": null,
      "outputs": [
        {
          "output_type": "execute_result",
          "data": {
            "text/plain": [
              "SVR()"
            ],
            "text/html": [
              "<style>#sk-container-id-1 {color: black;background-color: white;}#sk-container-id-1 pre{padding: 0;}#sk-container-id-1 div.sk-toggleable {background-color: white;}#sk-container-id-1 label.sk-toggleable__label {cursor: pointer;display: block;width: 100%;margin-bottom: 0;padding: 0.3em;box-sizing: border-box;text-align: center;}#sk-container-id-1 label.sk-toggleable__label-arrow:before {content: \"▸\";float: left;margin-right: 0.25em;color: #696969;}#sk-container-id-1 label.sk-toggleable__label-arrow:hover:before {color: black;}#sk-container-id-1 div.sk-estimator:hover label.sk-toggleable__label-arrow:before {color: black;}#sk-container-id-1 div.sk-toggleable__content {max-height: 0;max-width: 0;overflow: hidden;text-align: left;background-color: #f0f8ff;}#sk-container-id-1 div.sk-toggleable__content pre {margin: 0.2em;color: black;border-radius: 0.25em;background-color: #f0f8ff;}#sk-container-id-1 input.sk-toggleable__control:checked~div.sk-toggleable__content {max-height: 200px;max-width: 100%;overflow: auto;}#sk-container-id-1 input.sk-toggleable__control:checked~label.sk-toggleable__label-arrow:before {content: \"▾\";}#sk-container-id-1 div.sk-estimator input.sk-toggleable__control:checked~label.sk-toggleable__label {background-color: #d4ebff;}#sk-container-id-1 div.sk-label input.sk-toggleable__control:checked~label.sk-toggleable__label {background-color: #d4ebff;}#sk-container-id-1 input.sk-hidden--visually {border: 0;clip: rect(1px 1px 1px 1px);clip: rect(1px, 1px, 1px, 1px);height: 1px;margin: -1px;overflow: hidden;padding: 0;position: absolute;width: 1px;}#sk-container-id-1 div.sk-estimator {font-family: monospace;background-color: #f0f8ff;border: 1px dotted black;border-radius: 0.25em;box-sizing: border-box;margin-bottom: 0.5em;}#sk-container-id-1 div.sk-estimator:hover {background-color: #d4ebff;}#sk-container-id-1 div.sk-parallel-item::after {content: \"\";width: 100%;border-bottom: 1px solid gray;flex-grow: 1;}#sk-container-id-1 div.sk-label:hover label.sk-toggleable__label {background-color: #d4ebff;}#sk-container-id-1 div.sk-serial::before {content: \"\";position: absolute;border-left: 1px solid gray;box-sizing: border-box;top: 0;bottom: 0;left: 50%;z-index: 0;}#sk-container-id-1 div.sk-serial {display: flex;flex-direction: column;align-items: center;background-color: white;padding-right: 0.2em;padding-left: 0.2em;position: relative;}#sk-container-id-1 div.sk-item {position: relative;z-index: 1;}#sk-container-id-1 div.sk-parallel {display: flex;align-items: stretch;justify-content: center;background-color: white;position: relative;}#sk-container-id-1 div.sk-item::before, #sk-container-id-1 div.sk-parallel-item::before {content: \"\";position: absolute;border-left: 1px solid gray;box-sizing: border-box;top: 0;bottom: 0;left: 50%;z-index: -1;}#sk-container-id-1 div.sk-parallel-item {display: flex;flex-direction: column;z-index: 1;position: relative;background-color: white;}#sk-container-id-1 div.sk-parallel-item:first-child::after {align-self: flex-end;width: 50%;}#sk-container-id-1 div.sk-parallel-item:last-child::after {align-self: flex-start;width: 50%;}#sk-container-id-1 div.sk-parallel-item:only-child::after {width: 0;}#sk-container-id-1 div.sk-dashed-wrapped {border: 1px dashed gray;margin: 0 0.4em 0.5em 0.4em;box-sizing: border-box;padding-bottom: 0.4em;background-color: white;}#sk-container-id-1 div.sk-label label {font-family: monospace;font-weight: bold;display: inline-block;line-height: 1.2em;}#sk-container-id-1 div.sk-label-container {text-align: center;}#sk-container-id-1 div.sk-container {/* jupyter's `normalize.less` sets `[hidden] { display: none; }` but bootstrap.min.css set `[hidden] { display: none !important; }` so we also need the `!important` here to be able to override the default hidden behavior on the sphinx rendered scikit-learn.org. See: https://github.com/scikit-learn/scikit-learn/issues/21755 */display: inline-block !important;position: relative;}#sk-container-id-1 div.sk-text-repr-fallback {display: none;}</style><div id=\"sk-container-id-1\" class=\"sk-top-container\"><div class=\"sk-text-repr-fallback\"><pre>SVR()</pre><b>In a Jupyter environment, please rerun this cell to show the HTML representation or trust the notebook. <br />On GitHub, the HTML representation is unable to render, please try loading this page with nbviewer.org.</b></div><div class=\"sk-container\" hidden><div class=\"sk-item\"><div class=\"sk-estimator sk-toggleable\"><input class=\"sk-toggleable__control sk-hidden--visually\" id=\"sk-estimator-id-1\" type=\"checkbox\" checked><label for=\"sk-estimator-id-1\" class=\"sk-toggleable__label sk-toggleable__label-arrow\">SVR</label><div class=\"sk-toggleable__content\"><pre>SVR()</pre></div></div></div></div></div>"
            ]
          },
          "metadata": {},
          "execution_count": 20
        }
      ]
    },
    {
      "cell_type": "code",
      "source": [
        "y_pred = regressor.predict(X_test)"
      ],
      "metadata": {
        "id": "z2gM3-pp9eVL"
      },
      "execution_count": null,
      "outputs": []
    },
    {
      "cell_type": "code",
      "source": [
        "from sklearn.metrics import mean_squared_error, mean_absolute_error, r2_score\n",
        "\n",
        "mse = mean_squared_error(y_test, y_pred)\n",
        "mae = mean_absolute_error(y_test, y_pred)\n",
        "r2 = r2_score(y_test, y_pred)\n",
        "\n",
        "print(\"Mean Squared Error:\", mse)\n",
        "print(\"Mean Absolute Error:\", mae)\n",
        "print(\"R^2 Score:\", r2)"
      ],
      "metadata": {
        "colab": {
          "base_uri": "https://localhost:8080/"
        },
        "id": "kTHjVIWLKD8q",
        "outputId": "36967313-e5b2-43ad-d5e9-c94834f5cae7"
      },
      "execution_count": null,
      "outputs": [
        {
          "output_type": "stream",
          "name": "stdout",
          "text": [
            "Mean Squared Error: 0.5713721176226559\n",
            "Mean Absolute Error: 0.2411497351595937\n",
            "R^2 Score: 0.42862788237734384\n"
          ]
        }
      ]
    },
    {
      "cell_type": "markdown",
      "source": [
        "# Neural networks"
      ],
      "metadata": {
        "id": "jXWyRRqW_BFb"
      }
    },
    {
      "cell_type": "code",
      "source": [
        "import numpy as np\n",
        "from sklearn.model_selection import train_test_split\n",
        "from sklearn.preprocessing import StandardScaler\n",
        "from keras.models import Sequential\n",
        "from keras.layers import Dense\n",
        "from keras.callbacks import EarlyStopping\n",
        "\n",
        "X_train, X_test, y_train, y_test = train_test_split(X_reduced, y, test_size\n",
        "= 0.3, random_state=42)\n",
        "scaler = StandardScaler()\n",
        "X_train = scaler.fit_transform(X_train)\n",
        "X_test = scaler.transform(X_test)"
      ],
      "metadata": {
        "id": "PZ9UJ4Aw_DTJ"
      },
      "execution_count": null,
      "outputs": []
    },
    {
      "cell_type": "code",
      "source": [
        "import tensorflow as tf\n",
        "\n",
        "model.compile(loss='mean_absolute_error', optimizer=tf.keras.optimizers.Adam(0.001))\n",
        "early_stopping = EarlyStopping(patience=10, verbose=1)\n",
        "history = model.fit(X_train, y_train, validation_data=(X_test, y_test),epochs=50, batch_size=64, callbacks=[early_stopping])"
      ],
      "metadata": {
        "id": "x1wx4jMN_RVv"
      },
      "execution_count": null,
      "outputs": []
    },
    {
      "cell_type": "code",
      "source": [
        "from sklearn.metrics import mean_absolute_error, mean_squared_error, median_absolute_error, r2_score, explained_variance_score\n",
        "\n",
        "y_pred = model.predict(X_test)\n",
        "mae = mean_absolute_error(y_test, y_pred)\n",
        "mse = mean_squared_error(y_test, y_pred)\n",
        "rmse = np.sqrt(mse)\n",
        "58\n",
        "r2 = r2_score(y_test, y_pred)\n",
        "print('''\n",
        "MAE: {}\n",
        "MSE: {}\n",
        "RMSE: {}\n",
        "R2: {}\n",
        "'''.format(mae,mse,rmse, r2))"
      ],
      "metadata": {
        "id": "-KC_kh87_Fm6"
      },
      "execution_count": null,
      "outputs": []
    },
    {
      "cell_type": "markdown",
      "source": [
        "# Random forest\n"
      ],
      "metadata": {
        "id": "cjjmMfmT__yE"
      }
    },
    {
      "cell_type": "code",
      "source": [
        "from sklearn.ensemble import RandomForestRegressor\n",
        "from sklearn.model_selection import GridSearchCV\n",
        "\n",
        "\n",
        "forest = RandomForestRegressor(n_jobs=None, random_state=42)\n",
        "parameters = {'n_estimators': [10, 20],'max_features': [1, 2, 4], 'min_samples_leaf': [3, 5, 7, 9],'max_depth': [5,10,15]}\n",
        "grid = GridSearchCV(forest, parameters, cv=5, scoring='accuracy')\n",
        "grid.fit(X,y)\n",
        "print('Best param: ', grid.best_params_)"
      ],
      "metadata": {
        "id": "m2hjgwBiAB9x"
      },
      "execution_count": null,
      "outputs": []
    },
    {
      "cell_type": "code",
      "source": [
        "forest = RandomForestRegressor(n_estimators=10, n_jobs=None, random_state=42, max_depth=5, max_features=1, min_samples_leaf=3)"
      ],
      "metadata": {
        "id": "GZzfonc-AEFs"
      },
      "execution_count": null,
      "outputs": []
    },
    {
      "cell_type": "code",
      "source": [
        "forest.fit(X_train, y_train)\n",
        "\n",
        "y_pred = forest.predict(X_test)"
      ],
      "metadata": {
        "id": "so97dEy8AH8Y"
      },
      "execution_count": null,
      "outputs": []
    },
    {
      "cell_type": "code",
      "source": [
        "from sklearn.metrics import mean_absolute_error, mean_squared_error, median_absolute_error, r2_score, explained_variance_score\n",
        "mae = mean_absolute_error(y_test, y_pred)\n",
        "mse = mean_squared_error(y_test, y_pred)\n",
        "rmse = np.sqrt(mse)\n",
        "\n",
        "print('''\n",
        "MAE: {}\n",
        "MSE: {}\n",
        "RMSE: {}\n",
        "'''.format(mae,mse,rmse))"
      ],
      "metadata": {
        "id": "fpkvn7CNAJbY"
      },
      "execution_count": null,
      "outputs": []
    }
  ]
}